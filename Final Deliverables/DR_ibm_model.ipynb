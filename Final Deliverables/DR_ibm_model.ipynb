{
  "nbformat": 4,
  "nbformat_minor": 0,
  "metadata": {
    "colab": {
      "provenance": []
    },
    "kernelspec": {
      "name": "python3",
      "display_name": "Python 3"
    },
    "language_info": {
      "name": "python"
    }
  },
  "cells": [
    {
      "cell_type": "code",
      "source": [
        "from google.colab import drive\n",
        "drive.mount('/content/drive')"
      ],
      "metadata": {
        "id": "zLesVkvRQiZU",
        "colab": {
          "base_uri": "https://localhost:8080/"
        },
        "outputId": "2ac7bfb5-10e6-4d62-c716-7398800a9a4f"
      },
      "execution_count": 1,
      "outputs": [
        {
          "output_type": "stream",
          "name": "stdout",
          "text": [
            "Mounted at /content/drive\n"
          ]
        }
      ]
    },
    {
      "cell_type": "code",
      "source": [
        "import os\n",
        "import numpy as np\n",
        "import matplotlib.pyplot as plt\n",
        "\n",
        "images = \"/content/drive/MyDrive/archive (3).zip (Unzipped Files)/IBM Dataset/gaussian_filtered_images\"\n",
        "\n",
        "folders = os.listdir(images)\n",
        "print(folders)"
      ],
      "metadata": {
        "colab": {
          "base_uri": "https://localhost:8080/"
        },
        "id": "c753b-tyjxE1",
        "outputId": "750306e7-14f1-4e80-ea24-a9991ad99df8"
      },
      "execution_count": 2,
      "outputs": [
        {
          "output_type": "stream",
          "name": "stdout",
          "text": [
            "['Mild', 'Moderate', 'No_DR', 'Proliferate_DR', 'Severe']\n"
          ]
        }
      ]
    },
    {
      "cell_type": "code",
      "source": [
        "image_data = []\n",
        "labels = []\n",
        "label_dict = {\n",
        "    'No_DR':1,\n",
        "    'Mild':2,\n",
        "    'Moderate':3,\n",
        "    'Proliferate_DR':4,\n",
        "    'Severe':5\n",
        "\n",
        "}"
      ],
      "metadata": {
        "id": "arIOwNihj61t"
      },
      "execution_count": 3,
      "outputs": []
    },
    {
      "cell_type": "code",
      "source": [
        "trainPath=r\"/content/drive/MyDrive/archive (3).zip (Unzipped Files)/IBM Dataset/gaussian_filtered_images\"\n",
        "testPath=r\"/content/drive/MyDrive/archive (3).zip (Unzipped Files)/IBM Dataset/gaussian_filtered_images\""
      ],
      "metadata": {
        "id": "DGUWBEoOlp2Y"
      },
      "execution_count": 4,
      "outputs": []
    },
    {
      "cell_type": "code",
      "source": [
        "from tensorflow.keras.preprocessing.image import ImageDataGenerator, load_img\n",
        "from glob import glob\n",
        "import numpy as np\n",
        "import matplotlib.pyplot as plt"
      ],
      "metadata": {
        "id": "ZfoFxp0-lv0M"
      },
      "execution_count": 6,
      "outputs": []
    },
    {
      "cell_type": "code",
      "source": [
        "import tensorflow as tf\n",
        "from keras_preprocessing.image import load_img\n",
        "from keras_preprocessing.image import img_to_array\n",
        "from keras_preprocessing.image import array_to_img\n",
        "import PIL\n",
        "import tensorflow as tf\n",
        "import pathlib\n",
        "import matplotlib.pyplot as plt\n",
        "train_datagen = tf.keras.preprocessing.image.ImageDataGenerator(rescale=1./255,\n",
        "                                   shear_range=0.1,\n",
        "                                   zoom_range=0.1,\n",
        "                                   horizontal_flip=True)\n",
        "\n",
        "test_datagen = tf.keras.preprocessing.image.ImageDataGenerator(rescale=1./255,\n",
        "                                   shear_range=0.1,\n",
        "                                   zoom_range=0.1,\n",
        "                                   horizontal_flip=True)\n",
        "training_set = train_datagen.flow_from_directory('/content/drive/MyDrive/archive (3).zip (Unzipped Files)/IBM Dataset/gaussian_filtered_images',\n",
        "                                                 target_size = (299, 299),\n",
        "                                                 batch_size = 32,\n",
        "                                                 class_mode = 'categorical')\n",
        "test_set = test_datagen.flow_from_directory('/content/drive/MyDrive/archive (3).zip (Unzipped Files)/IBM Dataset/gaussian_filtered_images',\n",
        "                                                 target_size = (299, 299),\n",
        "                                                 batch_size = 32,\n",
        "                                                 class_mode = 'categorical')"
      ],
      "metadata": {
        "id": "XNjTXua5lz4K",
        "colab": {
          "base_uri": "https://localhost:8080/"
        },
        "outputId": "2fa363eb-52ba-41c6-be9a-7b47023dee07"
      },
      "execution_count": 7,
      "outputs": [
        {
          "output_type": "stream",
          "name": "stdout",
          "text": [
            "Found 3672 images belonging to 5 classes.\n",
            "Found 3672 images belonging to 5 classes.\n"
          ]
        }
      ]
    },
    {
      "cell_type": "code",
      "source": [
        "from tensorflow.keras.models import Sequential\n",
        "from tensorflow.keras.layers import Conv2D\n",
        "from tensorflow.keras.layers import MaxPooling2D\n",
        "from tensorflow.keras.layers import Flatten\n",
        "from tensorflow.keras.layers import Dense\n",
        "from tensorflow.keras.models import Model, Sequential\n",
        "from tensorflow.keras.preprocessing.image import ImageDataGenerator\n",
        "from tensorflow.keras.optimizers import SGD\n",
        "from tensorflow.keras.layers import Dense, Conv2D, MaxPool2D , Flatten\n",
        "from tensorflow.keras.losses import categorical_crossentropy\n",
        "from tensorflow.keras.callbacks import ModelCheckpoint, EarlyStopping\n",
        "from tensorflow.keras import metrics"
      ],
      "metadata": {
        "id": "hsxhXPgdl15t"
      },
      "execution_count": 31,
      "outputs": []
    },
    {
      "cell_type": "code",
      "source": [
        "from tensorflow.keras.applications.vgg16 import VGG16\n",
        "from tensorflow.keras.applications.vgg16 import preprocess_input\n",
        "vgg16 = VGG16(weights='imagenet')\n",
        "vgg16.summary()\n",
        "\n",
        "x  = vgg16.get_layer('fc2').output\n",
        "prediction = Dense(5, activation='softmax', name='predictions')(x)\n",
        "\n",
        "model = Model(inputs=vgg16.input, outputs=prediction)"
      ],
      "metadata": {
        "id": "fD1rbqoemLq_",
        "colab": {
          "base_uri": "https://localhost:8080/"
        },
        "outputId": "9fd10b79-d41f-44d6-819a-4379712e07b7"
      },
      "execution_count": 32,
      "outputs": [
        {
          "output_type": "stream",
          "name": "stdout",
          "text": [
            "Model: \"vgg16\"\n",
            "_________________________________________________________________\n",
            " Layer (type)                Output Shape              Param #   \n",
            "=================================================================\n",
            " input_5 (InputLayer)        [(None, 224, 224, 3)]     0         \n",
            "                                                                 \n",
            " block1_conv1 (Conv2D)       (None, 224, 224, 64)      1792      \n",
            "                                                                 \n",
            " block1_conv2 (Conv2D)       (None, 224, 224, 64)      36928     \n",
            "                                                                 \n",
            " block1_pool (MaxPooling2D)  (None, 112, 112, 64)      0         \n",
            "                                                                 \n",
            " block2_conv1 (Conv2D)       (None, 112, 112, 128)     73856     \n",
            "                                                                 \n",
            " block2_conv2 (Conv2D)       (None, 112, 112, 128)     147584    \n",
            "                                                                 \n",
            " block2_pool (MaxPooling2D)  (None, 56, 56, 128)       0         \n",
            "                                                                 \n",
            " block3_conv1 (Conv2D)       (None, 56, 56, 256)       295168    \n",
            "                                                                 \n",
            " block3_conv2 (Conv2D)       (None, 56, 56, 256)       590080    \n",
            "                                                                 \n",
            " block3_conv3 (Conv2D)       (None, 56, 56, 256)       590080    \n",
            "                                                                 \n",
            " block3_pool (MaxPooling2D)  (None, 28, 28, 256)       0         \n",
            "                                                                 \n",
            " block4_conv1 (Conv2D)       (None, 28, 28, 512)       1180160   \n",
            "                                                                 \n",
            " block4_conv2 (Conv2D)       (None, 28, 28, 512)       2359808   \n",
            "                                                                 \n",
            " block4_conv3 (Conv2D)       (None, 28, 28, 512)       2359808   \n",
            "                                                                 \n",
            " block4_pool (MaxPooling2D)  (None, 14, 14, 512)       0         \n",
            "                                                                 \n",
            " block5_conv1 (Conv2D)       (None, 14, 14, 512)       2359808   \n",
            "                                                                 \n",
            " block5_conv2 (Conv2D)       (None, 14, 14, 512)       2359808   \n",
            "                                                                 \n",
            " block5_conv3 (Conv2D)       (None, 14, 14, 512)       2359808   \n",
            "                                                                 \n",
            " block5_pool (MaxPooling2D)  (None, 7, 7, 512)         0         \n",
            "                                                                 \n",
            " flatten (Flatten)           (None, 25088)             0         \n",
            "                                                                 \n",
            " fc1 (Dense)                 (None, 4096)              102764544 \n",
            "                                                                 \n",
            " fc2 (Dense)                 (None, 4096)              16781312  \n",
            "                                                                 \n",
            " predictions (Dense)         (None, 1000)              4097000   \n",
            "                                                                 \n",
            "=================================================================\n",
            "Total params: 138,357,544\n",
            "Trainable params: 138,357,544\n",
            "Non-trainable params: 0\n",
            "_________________________________________________________________\n"
          ]
        }
      ]
    },
    {
      "cell_type": "code",
      "source": [
        "checkpoint = ModelCheckpoint(\"ibm_model.h5\", monitor='val_accuracy', verbose=1, \n",
        "                             save_best_only=True, save_weights_only=False, mode='auto')\n",
        "early = EarlyStopping(monitor='val_accuracy', min_delta=0, patience=20, verbose=1, mode='auto')"
      ],
      "metadata": {
        "id": "GsETH7EAyGG5"
      },
      "execution_count": 33,
      "outputs": []
    },
    {
      "cell_type": "code",
      "source": [
        "for layer in model.layers:\n",
        "  layer.trainable  = False  "
      ],
      "metadata": {
        "id": "zb6yVZ4OmVHK"
      },
      "execution_count": 34,
      "outputs": []
    },
    {
      "cell_type": "code",
      "source": [
        "from keras import losses \n",
        "from keras import optimizers \n",
        "from keras import metrics "
      ],
      "metadata": {
        "id": "Y88D6nJvmatF"
      },
      "execution_count": 35,
      "outputs": []
    },
    {
      "cell_type": "code",
      "source": [
        "model.compile(loss = 'mean_squared_error',  \n",
        "   optimizer = 'sgd', metrics = [metrics.categorical_accuracy])"
      ],
      "metadata": {
        "id": "alxJXppy5LRs"
      },
      "execution_count": 36,
      "outputs": []
    },
    {
      "cell_type": "code",
      "execution_count": null,
      "metadata": {
        "colab": {
          "background_save": true,
          "base_uri": "https://localhost:8080/"
        },
        "id": "92h-avlJzrX0",
        "outputId": "b87f2c9d-9a95-4d26-8f99-477300cd5e5b"
      },
      "outputs": [
        {
          "name": "stdout",
          "output_type": "stream",
          "text": [
            "25/25 [==============================] - ETA: 0s - loss: 0.1621 - categorical_accuracy: 0.0938  "
          ]
        }
      ],
      "source": [
        "model.fit(training_set,\n",
        "          batch_size=128,\n",
        "          steps_per_epoch = 25,\n",
        "          epochs=1,\n",
        "          verbose=1,\n",
        "          validation_data = test_set)"
      ]
    },
    {
      "cell_type": "code",
      "source": [
        "model.save(ibm_model.h5)"
      ],
      "metadata": {
        "id": "tELntg2g8R4-"
      },
      "execution_count": null,
      "outputs": []
    }
  ]
}